{
 "cells": [
  {
   "cell_type": "markdown",
   "metadata": {},
   "source": [
    "# Primerjava pristopov za luščenje ključnih besed na povzetkih člankov s ključno besedo \"Longevity\"\n",
    "\n",
    "V tem zvezku predstavljamo primerjavo pristopov za luščenje ključnih besed iz nabora povzetkov člankov s ključno besedo \"Longevity\" v zbirki PubMed.\n",
    "\n",
    "Predstavili bomo objektivno primerjavo pristopov za luščenje besed. Primerjali bomo izluščene besede s ključnimi besedami, ki so jih označili avtorji člankov. Za vsako metodo bomo prikazali povprečno preciznost (precision), priklic (recall) in mero F1."
   ]
  },
  {
   "cell_type": "code",
   "execution_count": 31,
   "metadata": {},
   "outputs": [
    {
     "name": "stdout",
     "output_type": "stream",
     "text": [
      "The autoreload extension is already loaded. To reload it, use:\n",
      "  %reload_ext autoreload\n"
     ]
    },
    {
     "name": "stderr",
     "output_type": "stream",
     "text": [
      "/home/primoz/text-semantics/textsemantics/specific_words.py:236: SyntaxWarning: assertion is always true, perhaps remove parentheses?\n",
      "  assert (\n"
     ]
    }
   ],
   "source": [
    "%load_ext autoreload\n",
    "%autoreload 2"
   ]
  },
  {
   "cell_type": "code",
   "execution_count": 32,
   "metadata": {},
   "outputs": [],
   "source": [
    "import string\n",
    "import ast\n",
    "\n",
    "import pandas as pd\n",
    "import nltk\n",
    "from nltk.tokenize import RegexpTokenizer\n",
    "from nltk.corpus import stopwords\n",
    "from lemmagen.lemmatizer import Lemmatizer\n",
    "from lemmagen import DICTIONARY_ENGLISH\n",
    "from matplotlib import pyplot as plt\n",
    "import yake\n",
    "import rake\n",
    "\n",
    "from textsemantics import specific_words\n",
    "from utils.scores import (\n",
    "    precision, recall, average_precision, average_recall, average_f_score,\n",
    "    take_n, score_in_len_range\n",
    ")\n",
    "\n",
    "from bert_keyword_extractor import TransformerKeywordExtractor\n",
    "\n",
    "# max len of keyphrase\n",
    "# ngrams are not applicable to case with only words but with\n",
    "# same setting we do evalvation on same documents for keyphrases\n",
    "# and keywords\n",
    "N_GRAM_LEN = 3"
   ]
  },
  {
   "cell_type": "markdown",
   "metadata": {},
   "source": [
    "Naložimo metapodatke in dokumente iz zbirke in dokumente preprocesiramo in izluščimo posamezne besede."
   ]
  },
  {
   "cell_type": "code",
   "execution_count": 2,
   "metadata": {},
   "outputs": [
    {
     "name": "stdout",
     "output_type": "stream",
     "text": [
      "Z vejicami 4582\n",
      "Brez vejic 4509\n",
      "Število dokumentov: 4508/16791\n"
     ]
    }
   ],
   "source": [
    "nltk.download('stopwords', quiet=True)\n",
    "lemmatizer = Lemmatizer(dictionary=DICTIONARY_ENGLISH)\n",
    "stop_words = set(stopwords.words('english'))\n",
    "\n",
    "def preprocess(corpus):\n",
    "    tokenizer = RegexpTokenizer(\"\\w+\")\n",
    "    \n",
    "    preprocessed = list()\n",
    "    for text in corpus:\n",
    "        text = text.translate(text.maketrans('', '', string.punctuation))\n",
    "        tokens = tokenizer.tokenize(text.lower())\n",
    "        tokens = [lemmatizer.lemmatize(token) for token in tokens if token not in stop_words \n",
    "                  and len(token) > 2 and not token.isnumeric()]\n",
    "        # lematizer in rare cases produce empty strings - removing them\n",
    "        tokens = list(filter(lambda a: a != '', tokens))  \n",
    "        preprocessed.append(tokens)\n",
    "        \n",
    "    return preprocessed\n",
    "\n",
    "df = pd.read_pickle(\"data/pubmed_longevity.pkl\")\n",
    "len_before = len(df)\n",
    "\n",
    "# izpusti članke brez ključnih besed - izbriši None vrednosti v senznamu ključnih besed\n",
    "# po brisanju None vrednosti nekatera besedila izgubijo ključne besede, odstrani jih\n",
    "df = df[~df[\"keywords\"].isnull()]\n",
    "df[\"keywords\"] = df[\"keywords\"].apply(lambda x: [k for k in x if k is not None])\n",
    "# izputsti kljucne besede z vec kot N_GRAM_LEN besedami\n",
    "# e.g. if N_GRAM_LEN == 3 we skip just 2% words\n",
    "# it is not necessary for keywords but to make evalvation on same documents\n",
    "# in case with keyphrases and keywords\n",
    "df[\"keywords\"] = df[\"keywords\"].apply(lambda x: [k for k in x if len(k.split()) <= N_GRAM_LEN])\n",
    "df = df[df[\"keywords\"].apply(len) != 0]\n",
    "\n",
    "# some keywords were not splited on seperate keyword by PubMed so keyword is comma separaed string\n",
    "# of keywords, others have coma which is part of the keyword. It is hard to distinguish both\n",
    "# so we are dropping 92 \n",
    "print(\"Z vejicami\", len(df))\n",
    "df = df[~df[\"keywords\"].apply(lambda x: any(\", \" in k for k in x))]\n",
    "print(\"Brez vejic\", len(df))\n",
    "\n",
    "df[\"Keywords_one_word\"] = df[\"keywords\"].apply(\n",
    "    lambda ph: [w.strip('][ )') for p in ph if p is not None for w in p.split()]\n",
    ")\n",
    "\n",
    "# izpusti prazne abstracte\n",
    "df = df[df[\"abstract\"].str.len() >= 100]\n",
    "\n",
    "tokens_list = preprocess(df[\"abstract\"])\n",
    "\n",
    "print(f\"Število dokumentov: {len(df)}/{len_before}\")"
   ]
  },
  {
   "cell_type": "markdown",
   "metadata": {},
   "source": [
    "Poglejmo si podatkte in izseke prvih 5 dokumentov"
   ]
  },
  {
   "cell_type": "code",
   "execution_count": 3,
   "metadata": {},
   "outputs": [
    {
     "data": {
      "text/html": [
       "<div>\n",
       "<style scoped>\n",
       "    .dataframe tbody tr th:only-of-type {\n",
       "        vertical-align: middle;\n",
       "    }\n",
       "\n",
       "    .dataframe tbody tr th {\n",
       "        vertical-align: top;\n",
       "    }\n",
       "\n",
       "    .dataframe thead th {\n",
       "        text-align: right;\n",
       "    }\n",
       "</style>\n",
       "<table border=\"1\" class=\"dataframe\">\n",
       "  <thead>\n",
       "    <tr style=\"text-align: right;\">\n",
       "      <th></th>\n",
       "      <th>title</th>\n",
       "      <th>abstract</th>\n",
       "      <th>journal</th>\n",
       "      <th>authors</th>\n",
       "      <th>mesh_terms</th>\n",
       "      <th>keywords</th>\n",
       "      <th>pubmed_id</th>\n",
       "      <th>year</th>\n",
       "      <th>Keywords_one_word</th>\n",
       "    </tr>\n",
       "  </thead>\n",
       "  <tbody>\n",
       "    <tr>\n",
       "      <th>0</th>\n",
       "      <td>The practice of self-preserving behavior of th...</td>\n",
       "      <td>One of world trends in health care social poli...</td>\n",
       "      <td>Problemy sotsial'noi gigieny, zdravookhranenii...</td>\n",
       "      <td>[T K Rostovskaya, A K Ivanova, E A Kniazkova]</td>\n",
       "      <td>[Delivery of Health Care, Demography, Health P...</td>\n",
       "      <td>[demographic behavior, health, longevity, self...</td>\n",
       "      <td>33591658</td>\n",
       "      <td>2021</td>\n",
       "      <td>[demographic, behavior, health, longevity, sel...</td>\n",
       "    </tr>\n",
       "    <tr>\n",
       "      <th>2</th>\n",
       "      <td>Consumption of field-realistic doses of a wide...</td>\n",
       "      <td>Commercial beekeepers in many locations are ex...</td>\n",
       "      <td>Environmental pollution (Barking, Essex : 1987)</td>\n",
       "      <td>[Jordan R Glass, Adrian Fisher, Jennifer H Few...</td>\n",
       "      <td>[Animals, Bees, Digestion, Fungicides, Industr...</td>\n",
       "      <td>[Flight metabolic rate, Flight performance, Fu...</td>\n",
       "      <td>33529906</td>\n",
       "      <td>2021</td>\n",
       "      <td>[Flight, metabolic, rate, Flight, performance,...</td>\n",
       "    </tr>\n",
       "    <tr>\n",
       "      <th>7</th>\n",
       "      <td>Casein-maltodextrin Maillard conjugates encaps...</td>\n",
       "      <td>Practical application of proanthocyanidins (PA...</td>\n",
       "      <td>Food chemistry</td>\n",
       "      <td>[Xianbao Sun, Xuejiao Wu, Xiangyu Chen, Rui Gu...</td>\n",
       "      <td>[Animals, Antioxidants, Caenorhabditis elegans...</td>\n",
       "      <td>[Antioxidant activity, Bioaccessibility, Casei...</td>\n",
       "      <td>33421900</td>\n",
       "      <td>2020</td>\n",
       "      <td>[Antioxidant, activity, Bioaccessibility, Case...</td>\n",
       "    </tr>\n",
       "    <tr>\n",
       "      <th>8</th>\n",
       "      <td>Aging and Senescence across Reproductive Trait...</td>\n",
       "      <td>AbstractWhy do senescence rates of fitness-rel...</td>\n",
       "      <td>The American naturalist</td>\n",
       "      <td>[Eve B Cooper, Timothée Bonnet, Helen L Osmond...</td>\n",
       "      <td>[Aging, Animals, Australian Capital Territory,...</td>\n",
       "      <td>[Malurus, aging, extrapair paternity, life-his...</td>\n",
       "      <td>33417527</td>\n",
       "      <td>2020</td>\n",
       "      <td>[Malurus, aging, extrapair, paternity, life-hi...</td>\n",
       "    </tr>\n",
       "    <tr>\n",
       "      <th>10</th>\n",
       "      <td>Lead stress affects the reproduction of Spodop...</td>\n",
       "      <td>Lead (Pb) stress affects hormone-mediated resp...</td>\n",
       "      <td>Ecotoxicology and environmental safety</td>\n",
       "      <td>[Jialiang Zhou, Jin Chen, Yinghua Shu]</td>\n",
       "      <td>[Animals, Diet, Environmental Pollutants, Fema...</td>\n",
       "      <td>[Heavy metal stress, Insect reproduction, Mult...</td>\n",
       "      <td>33396104</td>\n",
       "      <td>2020</td>\n",
       "      <td>[Heavy, metal, stress, Insect, reproduction, M...</td>\n",
       "    </tr>\n",
       "  </tbody>\n",
       "</table>\n",
       "</div>"
      ],
      "text/plain": [
       "                                                title  \\\n",
       "0   The practice of self-preserving behavior of th...   \n",
       "2   Consumption of field-realistic doses of a wide...   \n",
       "7   Casein-maltodextrin Maillard conjugates encaps...   \n",
       "8   Aging and Senescence across Reproductive Trait...   \n",
       "10  Lead stress affects the reproduction of Spodop...   \n",
       "\n",
       "                                             abstract  \\\n",
       "0   One of world trends in health care social poli...   \n",
       "2   Commercial beekeepers in many locations are ex...   \n",
       "7   Practical application of proanthocyanidins (PA...   \n",
       "8   AbstractWhy do senescence rates of fitness-rel...   \n",
       "10  Lead (Pb) stress affects hormone-mediated resp...   \n",
       "\n",
       "                                              journal  \\\n",
       "0   Problemy sotsial'noi gigieny, zdravookhranenii...   \n",
       "2     Environmental pollution (Barking, Essex : 1987)   \n",
       "7                                      Food chemistry   \n",
       "8                             The American naturalist   \n",
       "10             Ecotoxicology and environmental safety   \n",
       "\n",
       "                                              authors  \\\n",
       "0       [T K Rostovskaya, A K Ivanova, E A Kniazkova]   \n",
       "2   [Jordan R Glass, Adrian Fisher, Jennifer H Few...   \n",
       "7   [Xianbao Sun, Xuejiao Wu, Xiangyu Chen, Rui Gu...   \n",
       "8   [Eve B Cooper, Timothée Bonnet, Helen L Osmond...   \n",
       "10             [Jialiang Zhou, Jin Chen, Yinghua Shu]   \n",
       "\n",
       "                                           mesh_terms  \\\n",
       "0   [Delivery of Health Care, Demography, Health P...   \n",
       "2   [Animals, Bees, Digestion, Fungicides, Industr...   \n",
       "7   [Animals, Antioxidants, Caenorhabditis elegans...   \n",
       "8   [Aging, Animals, Australian Capital Territory,...   \n",
       "10  [Animals, Diet, Environmental Pollutants, Fema...   \n",
       "\n",
       "                                             keywords pubmed_id  year  \\\n",
       "0   [demographic behavior, health, longevity, self...  33591658  2021   \n",
       "2   [Flight metabolic rate, Flight performance, Fu...  33529906  2021   \n",
       "7   [Antioxidant activity, Bioaccessibility, Casei...  33421900  2020   \n",
       "8   [Malurus, aging, extrapair paternity, life-his...  33417527  2020   \n",
       "10  [Heavy metal stress, Insect reproduction, Mult...  33396104  2020   \n",
       "\n",
       "                                    Keywords_one_word  \n",
       "0   [demographic, behavior, health, longevity, sel...  \n",
       "2   [Flight, metabolic, rate, Flight, performance,...  \n",
       "7   [Antioxidant, activity, Bioaccessibility, Case...  \n",
       "8   [Malurus, aging, extrapair, paternity, life-hi...  \n",
       "10  [Heavy, metal, stress, Insect, reproduction, M...  "
      ]
     },
     "execution_count": 3,
     "metadata": {},
     "output_type": "execute_result"
    }
   ],
   "source": [
    "df.head()"
   ]
  },
  {
   "cell_type": "markdown",
   "metadata": {},
   "source": [
    "Sedaj bomo pridobili ključne besede z vsako od primerjanih metod:\n",
    "- [TF-IDF](https://github.com/biolab/text-semantics/blob/main/examples/04_03_specific_words_with_tfidf.ipynb)\n",
    "- [Metoda z vložitvami:](https://github.com/biolab/text-semantics/blob/main/examples/04_01_specific_words_with_embeddings.ipynb) samo na besedah v dokumentih\n",
    "- [RAKE](https://onlinelibrary.wiley.com/doi/abs/10.1002/9780470689646.ch1)\n",
    "- [Yake!](https://onlinelibrary.wiley.com/doi/abs/10.1002/9780470689646.ch1)\n",
    "- [TextRank](https://web.eecs.umich.edu/~mihalcea/papers/mihalcea.emnlp04.pdf)"
   ]
  },
  {
   "cell_type": "code",
   "execution_count": 4,
   "metadata": {},
   "outputs": [
    {
     "name": "stderr",
     "output_type": "stream",
     "text": [
      "/home/primoz/miniconda3/envs/text-semantics/lib/python3.8/site-packages/sklearn/utils/deprecation.py:87: FutureWarning: Function get_feature_names is deprecated; get_feature_names is deprecated in 1.0 and will be removed in 1.2. Please use get_feature_names_out instead.\n",
      "  warnings.warn(msg, category=FutureWarning)\n"
     ]
    },
    {
     "name": "stdout",
     "output_type": "stream",
     "text": [
      "CPU times: user 10.8 s, sys: 141 ms, total: 10.9 s\n",
      "Wall time: 10.9 s\n"
     ]
    }
   ],
   "source": [
    "%%time \n",
    "tfidf_keywords = specific_words.tfidf_keywords(tokens=tokens_list)\n",
    "tfidf_keywords = [[x for x, _ in wds] for wds in tfidf_keywords]"
   ]
  },
  {
   "cell_type": "code",
   "execution_count": 5,
   "metadata": {},
   "outputs": [
    {
     "name": "stdout",
     "output_type": "stream",
     "text": [
      "CPU times: user 1min 21s, sys: 3.77 s, total: 1min 24s\n",
      "Wall time: 1min 24s\n"
     ]
    }
   ],
   "source": [
    "%%time \n",
    "emb_doc_keywords = specific_words.embedding_document_keywords(\n",
    "    tokens=tokens_list, language=\"english\"\n",
    ")\n",
    "emb_doc_keywords = [[x for x, _ in wds] for wds in emb_doc_keywords]"
   ]
  },
  {
   "cell_type": "code",
   "execution_count": 6,
   "metadata": {},
   "outputs": [
    {
     "name": "stdout",
     "output_type": "stream",
     "text": [
      "CPU times: user 7.97 s, sys: 5.28 ms, total: 7.98 s\n",
      "Wall time: 7.96 s\n"
     ]
    }
   ],
   "source": [
    "%%time \n",
    "stop_path = \"utils/english-stopwords.txt\"\n",
    "rake_object = rake.Rake(stop_path, max_words_length=1)\n",
    "def rake_method(text):    \n",
    "    kw = rake_object.run(text)\n",
    "    # rake works on unormalized texts so normalize them afterwards\n",
    "    return [lemmatizer.lemmatize(x) for x, _ in kw if x not in stop_words]\n",
    "\n",
    "rake_keywords = [rake_method(txt) for txt in df[\"abstract\"]]"
   ]
  },
  {
   "cell_type": "code",
   "execution_count": 7,
   "metadata": {},
   "outputs": [
    {
     "name": "stdout",
     "output_type": "stream",
     "text": [
      "CPU times: user 2min 51s, sys: 274 ms, total: 2min 51s\n",
      "Wall time: 2min 51s\n"
     ]
    }
   ],
   "source": [
    "%%time \n",
    "custom_kw_extractor = yake.KeywordExtractor(lan=\"en\", n=1)\n",
    "def yake_method(text):\n",
    "    kw = custom_kw_extractor.extract_keywords(text)\n",
    "    return [lemmatizer.lemmatize(x) for x, _ in kw if x not in stop_words]\n",
    "\n",
    "yake_keywords = [yake_method(txt) for txt in df[\"abstract\"]]"
   ]
  },
  {
   "cell_type": "code",
   "execution_count": 33,
   "metadata": {},
   "outputs": [
    {
     "name": "stdout",
     "output_type": "stream",
     "text": [
      "CPU times: user 2min 9s, sys: 1min 18s, total: 3min 28s\n",
      "Wall time: 39 s\n"
     ]
    }
   ],
   "source": [
    "%%time\n",
    "text_rank_keywords = specific_words.text_rank_keywords(tokens=tokens_list, num_words=20)\n",
    "text_rank_keywords = [[w for w, _ in kws] for kws in text_rank_keywords]"
   ]
  },
  {
   "cell_type": "code",
   "execution_count": 9,
   "metadata": {},
   "outputs": [
    {
     "data": {
      "application/vnd.jupyter.widget-view+json": {
       "model_id": "734be96d42244d73916df165a479f2ef",
       "version_major": 2,
       "version_minor": 0
      },
      "text/plain": [
       "  0%|          | 0/5 [00:00<?, ?ba/s]"
      ]
     },
     "metadata": {},
     "output_type": "display_data"
    },
    {
     "name": "stderr",
     "output_type": "stream",
     "text": [
      "The following columns in the test set  don't have a corresponding argument in `BertForTokenClassification.forward` and have been ignored: tokens.\n",
      "***** Running Prediction *****\n",
      "  Num examples = 4917\n",
      "  Batch size = 8\n"
     ]
    },
    {
     "data": {
      "text/html": [
       "\n",
       "    <div>\n",
       "      \n",
       "      <progress value='615' max='615' style='width:300px; height:20px; vertical-align: middle;'></progress>\n",
       "      [615/615 01:28]\n",
       "    </div>\n",
       "    "
      ],
      "text/plain": [
       "<IPython.core.display.HTML object>"
      ]
     },
     "metadata": {},
     "output_type": "display_data"
    },
    {
     "name": "stderr",
     "output_type": "stream",
     "text": [
      "/home/primoz/text-semantics/examples/bert_keyword_extractor.py:112: UserWarning: To copy construct from a tensor, it is recommended to use sourceTensor.clone().detach() or sourceTensor.clone().detach().requires_grad_(True), rather than torch.tensor(sourceTensor).\n",
      "  torch.tensor(predictions).to(self.device), dim=2)\n",
      "loading configuration file models/mbert/config.json\n",
      "Model config BertConfig {\n",
      "  \"_name_or_path\": \"bert-base-multilingual-cased\",\n",
      "  \"architectures\": [\n",
      "    \"BertForTokenClassification\"\n",
      "  ],\n",
      "  \"attention_probs_dropout_prob\": 0.1,\n",
      "  \"directionality\": \"bidi\",\n",
      "  \"finetuning_task\": \"ner\",\n",
      "  \"gradient_checkpointing\": false,\n",
      "  \"hidden_act\": \"gelu\",\n",
      "  \"hidden_dropout_prob\": 0.1,\n",
      "  \"hidden_size\": 768,\n",
      "  \"id2label\": {\n",
      "    \"0\": \"B\",\n",
      "    \"1\": \"I\",\n",
      "    \"2\": \"O\"\n",
      "  },\n",
      "  \"initializer_range\": 0.02,\n",
      "  \"intermediate_size\": 3072,\n",
      "  \"label2id\": {\n",
      "    \"B\": 0,\n",
      "    \"I\": 1,\n",
      "    \"O\": 2\n",
      "  },\n",
      "  \"layer_norm_eps\": 1e-12,\n",
      "  \"max_position_embeddings\": 512,\n",
      "  \"model_type\": \"bert\",\n",
      "  \"num_attention_heads\": 12,\n",
      "  \"num_hidden_layers\": 12,\n",
      "  \"pad_token_id\": 0,\n",
      "  \"pooler_fc_size\": 768,\n",
      "  \"pooler_num_attention_heads\": 12,\n",
      "  \"pooler_num_fc_layers\": 3,\n",
      "  \"pooler_size_per_head\": 128,\n",
      "  \"pooler_type\": \"first_token_transform\",\n",
      "  \"position_embedding_type\": \"absolute\",\n",
      "  \"torch_dtype\": \"float32\",\n",
      "  \"transformers_version\": \"4.9.0.dev0\",\n",
      "  \"type_vocab_size\": 2,\n",
      "  \"use_cache\": true,\n",
      "  \"vocab_size\": 119547\n",
      "}\n",
      "\n",
      "Didn't find file models/mbert/added_tokens.json. We won't load it.\n",
      "loading file models/mbert/vocab.txt\n",
      "loading file models/mbert/tokenizer.json\n",
      "loading file None\n",
      "loading file models/mbert/special_tokens_map.json\n",
      "loading file models/mbert/tokenizer_config.json\n",
      "loading weights file models/mbert/pytorch_model.bin\n",
      "All model checkpoint weights were used when initializing BertForTokenClassification.\n",
      "\n",
      "All the weights of BertForTokenClassification were initialized from the model checkpoint at models/mbert.\n",
      "If your task is similar to the task the model of the checkpoint was trained on, you can already use BertForTokenClassification for predictions without further training.\n",
      "No `TrainingArguments` passed, using `output_dir=tmp_trainer`.\n",
      "PyTorch: setting up devices\n",
      "The default value for the training argument `--report_to` will change in v5 (from all installed integrations to none). In v5, you will need to use `--report_to all` to get the same behavior as now. You should start updating your code and make this info disappear :-).\n"
     ]
    },
    {
     "data": {
      "application/vnd.jupyter.widget-view+json": {
       "model_id": "4251eb4678ce472c99854529198194e0",
       "version_major": 2,
       "version_minor": 0
      },
      "text/plain": [
       "  0%|          | 0/5 [00:00<?, ?ba/s]"
      ]
     },
     "metadata": {},
     "output_type": "display_data"
    },
    {
     "name": "stderr",
     "output_type": "stream",
     "text": [
      "The following columns in the test set  don't have a corresponding argument in `BertForTokenClassification.forward` and have been ignored: tokens.\n",
      "***** Running Prediction *****\n",
      "  Num examples = 4762\n",
      "  Batch size = 8\n"
     ]
    },
    {
     "data": {
      "text/html": [
       "\n",
       "    <div>\n",
       "      \n",
       "      <progress value='596' max='596' style='width:300px; height:20px; vertical-align: middle;'></progress>\n",
       "      [596/596 01:23]\n",
       "    </div>\n",
       "    "
      ],
      "text/plain": [
       "<IPython.core.display.HTML object>"
      ]
     },
     "metadata": {},
     "output_type": "display_data"
    },
    {
     "name": "stdout",
     "output_type": "stream",
     "text": [
      "CPU times: user 2min 46s, sys: 2min 40s, total: 5min 27s\n",
      "Wall time: 5min 4s\n"
     ]
    }
   ],
   "source": [
    "%%time\n",
    "\n",
    "def get_kws(model_path):\n",
    "    extractor = TransformerKeywordExtractor(model_path)\n",
    "    _bert_keywords = extractor.extract_keywords(df['abstract'])\n",
    "    bert_keywords = list()\n",
    "    for kws in _bert_keywords:\n",
    "        current = list()\n",
    "        for w, _ in kws:\n",
    "            for s in w.split():\n",
    "                if s not in current:\n",
    "                    current.append(s)\n",
    "        bert_keywords.append(list(set(current)))\n",
    "    return bert_keywords\n",
    "        \n",
    "crosloengual_keywords = get_kws('models/crosloeng')\n",
    "mbert_keywords = get_kws('models/mbert')"
   ]
  },
  {
   "cell_type": "code",
   "execution_count": 34,
   "metadata": {},
   "outputs": [],
   "source": [
    "methods = [\n",
    "    # (\"Emb - document\", emb_doc_keywords),\n",
    "    (\"TFIDF\", tfidf_keywords),\n",
    "    (\"RAKE\", rake_keywords),\n",
    "    (\"YAKE\", yake_keywords),\n",
    "    (\"TextRank\", text_rank_keywords),\n",
    "    (\"mBert\", mbert_keywords),\n",
    "    (\"CroSloEngual\", crosloengual_keywords),\n",
    "]"
   ]
  },
  {
   "cell_type": "markdown",
   "metadata": {},
   "source": [
    "Ko imamo pridobljene ključne besede, si izpišemo povprečno število ključnih besed in najmanjše število ključnih besed, ki jih vsaka od metod vrne. Te statitike nam služijo zgolj, da vidimo ali je bila izluščitev besed uspešna. Nekatere metode omogočajo nastavljanje števila najbolj pomembnih ključnih besed zato imamo tam tipično manj ključnih besed na besedilo."
   ]
  },
  {
   "cell_type": "code",
   "execution_count": 35,
   "metadata": {},
   "outputs": [
    {
     "name": "stdout",
     "output_type": "stream",
     "text": [
      "TFIDF - Povprečno število besed: 84.3 Minimalno število specifičnih besed: 12\n",
      "RAKE - Povprečno število besed: 29.7 Minimalno število specifičnih besed: 0\n",
      "YAKE - Povprečno število besed: 20.0 Minimalno število specifičnih besed: 11\n",
      "TextRank - Povprečno število besed: 21.5 Minimalno število specifičnih besed: 1\n",
      "mBert - Povprečno število besed: 2.7 Minimalno število specifičnih besed: 0\n",
      "CroSloEngual - Povprečno število besed: 3.1 Minimalno število specifičnih besed: 0\n"
     ]
    }
   ],
   "source": [
    "for name, kw in methods:\n",
    "    print(\n",
    "        f\"{name} - Povprečno število besed:\", \n",
    "        f\"{sum(len(x) for x in kw) / len(kw):.1f}\",\n",
    "        \"Minimalno število specifičnih besed:\",\n",
    "        min(len(x) for x in kw)\n",
    "    )"
   ]
  },
  {
   "cell_type": "markdown",
   "metadata": {},
   "source": [
    "Izračunajmo natančnosti s pripravljenimi merami in jih izrišimo. Izračunamo povprečno preciznost, priklic in mero F1 za različno število izbranih najbolj pomembnih ključnih besed. Z vsako metodo smo pridobili seznam ključnih besed, ki je razvrščen po pomembnosti. Za namen izrisa grafov smo se odločili, da izračunamo vse tri mere za število ključnih besed v intervalu med 1 in 20. Na ta način vidimo kako uspešna je metoda glede na izbrano število ključnih besed.\n",
    "\n",
    "Izrišemo po en graf za vsako od mer - graf, ki prikazuje vrednost mere v odvisnosti od števila izbranih najboljših ključnih besed. Četrti graf prikazuje preciznost in priklic na enem grafu. V tem grafu ima metoda krivuljo iz večih točk. Vsaka od točk predstavlja preciznost in priklic za različno število izbranih ključnih besede. Metoda katere krivulja je bližje zgornjemu desnemu kotu, je boljša. \n"
   ]
  },
  {
   "cell_type": "code",
   "execution_count": 36,
   "metadata": {},
   "outputs": [],
   "source": [
    "kw = df['Keywords_one_word'].tolist()\n",
    "kw = [[lemmatizer.lemmatize(t.lower()) for t in k] for k in kw]\n",
    "\n",
    "precisions = [score_in_len_range(pred, kw, average_precision) for _, pred in methods]\n",
    "recalls = [score_in_len_range(pred, kw, average_recall)  for _, pred in methods]\n",
    "f_scores = [score_in_len_range(pred, kw, average_f_score)  for _, pred in methods]"
   ]
  },
  {
   "cell_type": "code",
   "execution_count": 37,
   "metadata": {},
   "outputs": [
    {
     "data": {
      "image/png": "[encoded data removed]",
      "text/plain": [
       "<Figure size 864x576 with 4 Axes>"
      ]
     },
     "metadata": {},
     "output_type": "display_data"
    }
   ],
   "source": [
    "CB_color_cycle = ['#377eb8', '#ff7f00', '#4daf4a',\n",
    "                  '#f781bf', '#a65628', '#984ea3',\n",
    "                  '#999999', '#e41a1c', '#dede00']\n",
    "\n",
    "plt.style.use('ggplot')\n",
    "fig = plt.figure(figsize=(12,8))\n",
    "fig.patch.set_facecolor('white')\n",
    "\n",
    "scores = (\n",
    "    (\"Precision\", precisions),\n",
    "    (\"Recall\", recalls),\n",
    "    (\"F1 Score\", f_scores),\n",
    ")\n",
    "for i, (title, sc) in enumerate(scores):\n",
    "    plt.subplot(2, 2, i + 1)\n",
    "    for p, (l, _), c in zip(sc, methods, CB_color_cycle):\n",
    "        plt.plot(range(1, 21), p, label=l, color=c)\n",
    "    if i == 0:\n",
    "        plt.legend()\n",
    "    plt.xlabel(\"# keywords\")\n",
    "    plt.ylabel(title)\n",
    "        \n",
    "plt.subplot(2, 2, 4)\n",
    "for p, r, (l, _), c in zip(precisions, recalls, methods, CB_color_cycle):\n",
    "    plt.plot(p, r, label=l, color=c)\n",
    "plt.xlabel(\"Precision\")\n",
    "plt.ylabel(\"Recall\")\n",
    "\n",
    "plt.tight_layout()"
   ]
  },
  {
   "cell_type": "code",
   "execution_count": 38,
   "metadata": {},
   "outputs": [],
   "source": [
    "def mrr(pred, true_keywords):   \n",
    "    def first_idx(p, kw):\n",
    "        return next((p.index(el) + 1 for el in p if el in kw), None)\n",
    "    ranks = [first_idx(pr, k) for pr, k in zip(pred, true_keywords)]\n",
    "    return sum(1/r if r is not None else 0 for r in ranks)/len(ranks)\n",
    "\n",
    "def take_same_number(pred, true):\n",
    "    return [p[:len(t)] for p, t in zip(pred, true)]\n",
    "\n",
    "def score_same_len(predictions, keywords, score_method):\n",
    "    return score_method(take_same_number(predictions, keywords), keywords)\n",
    "\n",
    "def map_(predictions, keywords):\n",
    "    # http://sdsawtelle.github.io/blog/output/mean-average-precision-MAP-for-recommender-systems.html\n",
    "    def ap(pred, kws):\n",
    "        appearances = [1 if p in kws else 0 for p in pred]\n",
    "        p_k = [sum(appearances[:i+1])/(i+1) for i, a in enumerate(appearances) if a > 0]\n",
    "        return sum(p_k) / len(kws)\n",
    "    \n",
    "    return sum(ap(p, k) for p, k in zip(predictions, keywords)) / len(predictions)"
   ]
  },
  {
   "cell_type": "code",
   "execution_count": 39,
   "metadata": {},
   "outputs": [],
   "source": [
    "precisions_same_number_keywords = [score_same_len(pred, kw, average_precision) for _, pred in methods]\n",
    "recall_same_number_keywords = [score_same_len(pred, kw, average_recall) for _, pred in methods]\n",
    "f1_same_number_keywords = [score_same_len(pred, kw, average_f_score) for _, pred in methods]\n",
    "mmrrs = [mrr(pred, kw) for _, pred in methods]\n",
    "maps = [map_(pred, kw) for _, pred in methods]"
   ]
  },
  {
   "cell_type": "code",
   "execution_count": 46,
   "metadata": {},
   "outputs": [
    {
     "data": {
      "text/html": [
       "<style type=\"text/css\">\n",
       "#T_89797_row0_col0 {\n",
       "  width: 10em;\n",
       "  height: 80%;\n",
       "  background: linear-gradient(90deg,#d65f5f 61.9%, transparent 61.9%);\n",
       "}\n",
       "#T_89797_row0_col1, #T_89797_row0_col2, #T_89797_row0_col3, #T_89797_row0_col4, #T_89797_row5_col0 {\n",
       "  width: 10em;\n",
       "  height: 80%;\n",
       "  background: linear-gradient(90deg,#d65f5f 100.0%, transparent 100.0%);\n",
       "}\n",
       "#T_89797_row1_col0 {\n",
       "  width: 10em;\n",
       "  height: 80%;\n",
       "  background: linear-gradient(90deg,#d65f5f 27.5%, transparent 27.5%);\n",
       "}\n",
       "#T_89797_row1_col1 {\n",
       "  width: 10em;\n",
       "  height: 80%;\n",
       "  background: linear-gradient(90deg,#d65f5f 43.3%, transparent 43.3%);\n",
       "}\n",
       "#T_89797_row1_col2 {\n",
       "  width: 10em;\n",
       "  height: 80%;\n",
       "  background: linear-gradient(90deg,#d65f5f 43.6%, transparent 43.6%);\n",
       "}\n",
       "#T_89797_row1_col3 {\n",
       "  width: 10em;\n",
       "  height: 80%;\n",
       "  background: linear-gradient(90deg,#d65f5f 53.6%, transparent 53.6%);\n",
       "}\n",
       "#T_89797_row1_col4 {\n",
       "  width: 10em;\n",
       "  height: 80%;\n",
       "  background: linear-gradient(90deg,#d65f5f 33.2%, transparent 33.2%);\n",
       "}\n",
       "#T_89797_row2_col0 {\n",
       "  width: 10em;\n",
       "  height: 80%;\n",
       "  background: linear-gradient(90deg,#d65f5f 54.8%, transparent 54.8%);\n",
       "}\n",
       "#T_89797_row2_col1 {\n",
       "  width: 10em;\n",
       "  height: 80%;\n",
       "  background: linear-gradient(90deg,#d65f5f 87.3%, transparent 87.3%);\n",
       "}\n",
       "#T_89797_row2_col2 {\n",
       "  width: 10em;\n",
       "  height: 80%;\n",
       "  background: linear-gradient(90deg,#d65f5f 87.7%, transparent 87.7%);\n",
       "}\n",
       "#T_89797_row2_col3 {\n",
       "  width: 10em;\n",
       "  height: 80%;\n",
       "  background: linear-gradient(90deg,#d65f5f 83.0%, transparent 83.0%);\n",
       "}\n",
       "#T_89797_row2_col4 {\n",
       "  width: 10em;\n",
       "  height: 80%;\n",
       "  background: linear-gradient(90deg,#d65f5f 69.7%, transparent 69.7%);\n",
       "}\n",
       "#T_89797_row3_col0 {\n",
       "  width: 10em;\n",
       "  height: 80%;\n",
       "  background: linear-gradient(90deg,#d65f5f 59.0%, transparent 59.0%);\n",
       "}\n",
       "#T_89797_row3_col1 {\n",
       "  width: 10em;\n",
       "  height: 80%;\n",
       "  background: linear-gradient(90deg,#d65f5f 93.7%, transparent 93.7%);\n",
       "}\n",
       "#T_89797_row3_col2 {\n",
       "  width: 10em;\n",
       "  height: 80%;\n",
       "  background: linear-gradient(90deg,#d65f5f 94.2%, transparent 94.2%);\n",
       "}\n",
       "#T_89797_row3_col3 {\n",
       "  width: 10em;\n",
       "  height: 80%;\n",
       "  background: linear-gradient(90deg,#d65f5f 91.8%, transparent 91.8%);\n",
       "}\n",
       "#T_89797_row3_col4 {\n",
       "  width: 10em;\n",
       "  height: 80%;\n",
       "  background: linear-gradient(90deg,#d65f5f 76.8%, transparent 76.8%);\n",
       "}\n",
       "#T_89797_row4_col0 {\n",
       "  width: 10em;\n",
       "  height: 80%;\n",
       "  background: linear-gradient(90deg,#d65f5f 97.9%, transparent 97.9%);\n",
       "}\n",
       "#T_89797_row4_col1 {\n",
       "  width: 10em;\n",
       "  height: 80%;\n",
       "  background: linear-gradient(90deg,#d65f5f 58.6%, transparent 58.6%);\n",
       "}\n",
       "#T_89797_row4_col2 {\n",
       "  width: 10em;\n",
       "  height: 80%;\n",
       "  background: linear-gradient(90deg,#d65f5f 79.0%, transparent 79.0%);\n",
       "}\n",
       "#T_89797_row4_col3 {\n",
       "  width: 10em;\n",
       "  height: 80%;\n",
       "  background: linear-gradient(90deg,#d65f5f 82.1%, transparent 82.1%);\n",
       "}\n",
       "#T_89797_row4_col4 {\n",
       "  width: 10em;\n",
       "  height: 80%;\n",
       "  background: linear-gradient(90deg,#d65f5f 51.3%, transparent 51.3%);\n",
       "}\n",
       "#T_89797_row5_col1 {\n",
       "  width: 10em;\n",
       "  height: 80%;\n",
       "  background: linear-gradient(90deg,#d65f5f 63.6%, transparent 63.6%);\n",
       "}\n",
       "#T_89797_row5_col2 {\n",
       "  width: 10em;\n",
       "  height: 80%;\n",
       "  background: linear-gradient(90deg,#d65f5f 84.2%, transparent 84.2%);\n",
       "}\n",
       "#T_89797_row5_col3 {\n",
       "  width: 10em;\n",
       "  height: 80%;\n",
       "  background: linear-gradient(90deg,#d65f5f 85.6%, transparent 85.6%);\n",
       "}\n",
       "#T_89797_row5_col4 {\n",
       "  width: 10em;\n",
       "  height: 80%;\n",
       "  background: linear-gradient(90deg,#d65f5f 54.2%, transparent 54.2%);\n",
       "}\n",
       "</style>\n",
       "<table id=\"T_89797_\">\n",
       "  <thead>\n",
       "    <tr>\n",
       "      <th class=\"blank level0\" >&nbsp;</th>\n",
       "      <th class=\"col_heading level0 col0\" >Precission</th>\n",
       "      <th class=\"col_heading level0 col1\" >Recall</th>\n",
       "      <th class=\"col_heading level0 col2\" >F1</th>\n",
       "      <th class=\"col_heading level0 col3\" >MRR</th>\n",
       "      <th class=\"col_heading level0 col4\" >MAP</th>\n",
       "    </tr>\n",
       "  </thead>\n",
       "  <tbody>\n",
       "    <tr>\n",
       "      <th id=\"T_89797_level0_row0\" class=\"row_heading level0 row0\" >TFIDF</th>\n",
       "      <td id=\"T_89797_row0_col0\" class=\"data row0 col0\" >0.233394</td>\n",
       "      <td id=\"T_89797_row0_col1\" class=\"data row0 col1\" >0.232950</td>\n",
       "      <td id=\"T_89797_row0_col2\" class=\"data row0 col2\" >0.233139</td>\n",
       "      <td id=\"T_89797_row0_col3\" class=\"data row0 col3\" >0.553825</td>\n",
       "      <td id=\"T_89797_row0_col4\" class=\"data row0 col4\" >0.211952</td>\n",
       "    </tr>\n",
       "    <tr>\n",
       "      <th id=\"T_89797_level0_row1\" class=\"row_heading level0 row1\" >RAKE</th>\n",
       "      <td id=\"T_89797_row1_col0\" class=\"data row1 col0\" >0.103830</td>\n",
       "      <td id=\"T_89797_row1_col1\" class=\"data row1 col1\" >0.100768</td>\n",
       "      <td id=\"T_89797_row1_col2\" class=\"data row1 col2\" >0.101680</td>\n",
       "      <td id=\"T_89797_row1_col3\" class=\"data row1 col3\" >0.296799</td>\n",
       "      <td id=\"T_89797_row1_col4\" class=\"data row1 col4\" >0.070407</td>\n",
       "    </tr>\n",
       "    <tr>\n",
       "      <th id=\"T_89797_level0_row2\" class=\"row_heading level0 row2\" >YAKE</th>\n",
       "      <td id=\"T_89797_row2_col0\" class=\"data row2 col0\" >0.206773</td>\n",
       "      <td id=\"T_89797_row2_col1\" class=\"data row2 col1\" >0.203254</td>\n",
       "      <td id=\"T_89797_row2_col2\" class=\"data row2 col2\" >0.204440</td>\n",
       "      <td id=\"T_89797_row2_col3\" class=\"data row2 col3\" >0.459905</td>\n",
       "      <td id=\"T_89797_row2_col4\" class=\"data row2 col4\" >0.147709</td>\n",
       "    </tr>\n",
       "    <tr>\n",
       "      <th id=\"T_89797_level0_row3\" class=\"row_heading level0 row3\" >TextRank</th>\n",
       "      <td id=\"T_89797_row3_col0\" class=\"data row3 col0\" >0.222503</td>\n",
       "      <td id=\"T_89797_row3_col1\" class=\"data row3 col1\" >0.218348</td>\n",
       "      <td id=\"T_89797_row3_col2\" class=\"data row3 col2\" >0.219692</td>\n",
       "      <td id=\"T_89797_row3_col3\" class=\"data row3 col3\" >0.508503</td>\n",
       "      <td id=\"T_89797_row3_col4\" class=\"data row3 col4\" >0.162746</td>\n",
       "    </tr>\n",
       "    <tr>\n",
       "      <th id=\"T_89797_level0_row4\" class=\"row_heading level0 row4\" >mBert</th>\n",
       "      <td id=\"T_89797_row4_col0\" class=\"data row4 col0\" >0.369430</td>\n",
       "      <td id=\"T_89797_row4_col1\" class=\"data row4 col1\" >0.136602</td>\n",
       "      <td id=\"T_89797_row4_col2\" class=\"data row4 col2\" >0.184130</td>\n",
       "      <td id=\"T_89797_row4_col3\" class=\"data row4 col3\" >0.454448</td>\n",
       "      <td id=\"T_89797_row4_col4\" class=\"data row4 col4\" >0.108660</td>\n",
       "    </tr>\n",
       "    <tr>\n",
       "      <th id=\"T_89797_level0_row5\" class=\"row_heading level0 row5\" >CroSloEngual</th>\n",
       "      <td id=\"T_89797_row5_col0\" class=\"data row5 col0\" >0.377354</td>\n",
       "      <td id=\"T_89797_row5_col1\" class=\"data row5 col1\" >0.148265</td>\n",
       "      <td id=\"T_89797_row5_col2\" class=\"data row5 col2\" >0.196228</td>\n",
       "      <td id=\"T_89797_row5_col3\" class=\"data row5 col3\" >0.474107</td>\n",
       "      <td id=\"T_89797_row5_col4\" class=\"data row5 col4\" >0.114879</td>\n",
       "    </tr>\n",
       "  </tbody>\n",
       "</table>\n"
      ],
      "text/plain": [
       "<pandas.io.formats.style.Styler at 0x7ff355bd5160>"
      ]
     },
     "execution_count": 46,
     "metadata": {},
     "output_type": "execute_result"
    }
   ],
   "source": [
    "df = pd.DataFrame({\n",
    "    \"Precission\": precisions_same_number_keywords,\n",
    "    \"Recall\": recall_same_number_keywords,\n",
    "    \"F1\": f1_same_number_keywords,\n",
    "    \"MRR\": mmrrs,\n",
    "    \"MAP\": maps,\n",
    "}, index=[n for n, _ in methods])\n",
    "\n",
    "df.style.bar(color='#d65f5f', vmin=0)"
   ]
  },
  {
   "cell_type": "markdown",
   "metadata": {},
   "source": [
    "Iz grafov lahko sklepamo, da se na primeru člankov najbolje obnese metoda YAKE!. Sledita TF-IDF in Text Rank. Razlika med YAKE in TF-IDF je na tem korpusu večja kot pri korpusu Schutz2008."
   ]
  }
 ],
 "metadata": {
  "kernelspec": {
   "display_name": "Python 3 (ipykernel)",
   "language": "python",
   "name": "python3"
  },
  "language_info": {
   "codemirror_mode": {
    "name": "ipython",
    "version": 3
   },
   "file_extension": ".py",
   "mimetype": "text/x-python",
   "name": "python",
   "nbconvert_exporter": "python",
   "pygments_lexer": "ipython3",
   "version": "3.8.12"
  }
 },
 "nbformat": 4,
 "nbformat_minor": 4
}
